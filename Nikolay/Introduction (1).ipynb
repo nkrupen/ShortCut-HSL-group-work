{
 "cells": [
  {
   "cell_type": "markdown",
   "metadata": {},
   "source": [
    "# Introduction to citybikes"
   ]
  },
  {
   "cell_type": "markdown",
   "metadata": {},
   "source": [
    "## 8 things to know\n",
    "1. Owner: HKL (City of Helsinki)\n",
    "    <br>-HSL (Operator)</br>\n",
    "    <br>-CityBike Finland (Operator)</br>\n",
    "    <br>-Possibility to use external subsciption (Whim MaaS service)</br>"
   ]
  },
  {
   "cell_type": "markdown",
   "metadata": {},
   "source": [
    "2. Years:\n",
    "    <br>-Current system was launched in 2nd of May 2016</br>\n",
    "    <br>-Previous system operated between 2000 and 2010, but people misused it</br> "
   ]
  },
  {
   "cell_type": "markdown",
   "metadata": {},
   "source": [
    "3. Available in \n",
    "    <br>-Helsinki</br>\n",
    "    <br>-Espoo</br>\n",
    "    <br>-Vantaa (since June 2019)</br>"
   ]
  },
  {
   "cell_type": "markdown",
   "metadata": {},
   "source": [
    "4. Numbers \n",
    "    <br>-over 4500 bikes (2020)</br>\n",
    "    <br>-around 450 stations (2020)</br>\n",
    "    <br>-Over one million rides and 48500 seasonal users (Helsinki and Espoo combined)</br>"
   ]
  },
  {
   "cell_type": "markdown",
   "metadata": {},
   "source": [
    "5. Season 2020\n",
    "    <br>-Was started mid March in advance due to Corona</br>\n",
    "    <br>-Season ends 31th of October</br>"
   ]
  },
  {
   "cell_type": "markdown",
   "metadata": {},
   "source": [
    "6. Prices\n",
    "    <br>-5 euros for a day</br>\n",
    "    <br>-10 euros for a week</br>\n",
    "    <br>-30 euros for a season (Scatter analysis shows that this is the best deal)</br>\n",
    "    <br>-Extra fees if a single trip takes over 30 minutes</br>\n",
    "    <br>-From 2020 there is a possibility of an early bird subsciption (5 EUR cheaper)</br>"
   ]
  },
  {
   "cell_type": "markdown",
   "metadata": {},
   "source": [
    "7. New stations\n",
    "    <br>-In Helsinki area, stations will expands to North and East</br>\n",
    "    <br>-The borderline is e.g. Kulosaari - there still have been no bikes there (or eastbound) in 2018</br>"
   ]
  },
  {
   "cell_type": "markdown",
   "metadata": {},
   "source": [
    "8. All citybikes are communist. -Timo Soini, 2016\n",
    "   <br>\"I'm lovin' it\" - Helsinki hipsters<br>"
   ]
  },
  {
   "cell_type": "markdown",
   "metadata": {},
   "source": [
    "## Used dataset "
   ]
  },
  {
   "cell_type": "code",
   "execution_count": 2,
   "metadata": {},
   "outputs": [],
   "source": [
    "#%matplotlib inline\n",
    "\n",
    "import numpy as np\n",
    "import pandas as pd"
   ]
  },
  {
   "cell_type": "markdown",
   "metadata": {},
   "source": [
    "Datasets used in this presentation are available for everyone through \n",
    "https://hri.fi/data/dataset/helsingin-ja-espoon-kaupunkipyorilla-ajatut-matkat\n",
    "<br>Or they can be downloaded from links below</br>"
   ]
  },
  {
   "cell_type": "markdown",
   "metadata": {},
   "source": [
    "2019:\n",
    "http://dev.hsl.fi/citybikes/od-trips-2019/od-trips-2019.zip"
   ]
  },
  {
   "cell_type": "markdown",
   "metadata": {},
   "source": [
    "2018:\n",
    "http://dev.hsl.fi/citybikes/od-trips-2018/od-trips-2018.zip"
   ]
  },
  {
   "cell_type": "markdown",
   "metadata": {},
   "source": [
    "These datasets don't include Vantaa region"
   ]
  },
  {
   "cell_type": "markdown",
   "metadata": {},
   "source": [
    "Original datastructure is following"
   ]
  },
  {
   "cell_type": "code",
   "execution_count": 3,
   "metadata": {},
   "outputs": [],
   "source": [
    "july19=pd.read_csv(\"2019-07.csv\")"
   ]
  },
  {
   "cell_type": "code",
   "execution_count": 7,
   "metadata": {},
   "outputs": [
    {
     "data": {
      "text/html": [
       "<div>\n",
       "<style scoped>\n",
       "    .dataframe tbody tr th:only-of-type {\n",
       "        vertical-align: middle;\n",
       "    }\n",
       "\n",
       "    .dataframe tbody tr th {\n",
       "        vertical-align: top;\n",
       "    }\n",
       "\n",
       "    .dataframe thead th {\n",
       "        text-align: right;\n",
       "    }\n",
       "</style>\n",
       "<table border=\"1\" class=\"dataframe\">\n",
       "  <thead>\n",
       "    <tr style=\"text-align: right;\">\n",
       "      <th></th>\n",
       "      <th>Departure</th>\n",
       "      <th>Return</th>\n",
       "      <th>Departure station id</th>\n",
       "      <th>Departure station name</th>\n",
       "      <th>Return station id</th>\n",
       "      <th>Return station name</th>\n",
       "      <th>Covered distance (m)</th>\n",
       "      <th>Duration (sec.)</th>\n",
       "    </tr>\n",
       "  </thead>\n",
       "  <tbody>\n",
       "    <tr>\n",
       "      <td>0</td>\n",
       "      <td>2019-07-31T23:59:56</td>\n",
       "      <td>2019-08-01T10:31:34</td>\n",
       "      <td>32</td>\n",
       "      <td>Eläinmuseo</td>\n",
       "      <td>211.0</td>\n",
       "      <td>Haagan tori</td>\n",
       "      <td>5211.0</td>\n",
       "      <td>37893</td>\n",
       "    </tr>\n",
       "    <tr>\n",
       "      <td>1</td>\n",
       "      <td>2019-07-31T23:59:55</td>\n",
       "      <td>2019-08-01T00:05:15</td>\n",
       "      <td>32</td>\n",
       "      <td>Eläinmuseo</td>\n",
       "      <td>36.0</td>\n",
       "      <td>Apollonkatu</td>\n",
       "      <td>939.0</td>\n",
       "      <td>315</td>\n",
       "    </tr>\n",
       "    <tr>\n",
       "      <td>2</td>\n",
       "      <td>2019-07-31T23:59:48</td>\n",
       "      <td>2019-08-01T00:04:53</td>\n",
       "      <td>101</td>\n",
       "      <td>Munkkivuoren ostoskeskus</td>\n",
       "      <td>100.0</td>\n",
       "      <td>Teljäntie</td>\n",
       "      <td>994.0</td>\n",
       "      <td>301</td>\n",
       "    </tr>\n",
       "    <tr>\n",
       "      <td>3</td>\n",
       "      <td>2019-07-31T23:59:42</td>\n",
       "      <td>2019-08-01T00:06:55</td>\n",
       "      <td>109</td>\n",
       "      <td>Hertanmäenkatu</td>\n",
       "      <td>142.0</td>\n",
       "      <td>Koskelantie</td>\n",
       "      <td>1827.0</td>\n",
       "      <td>428</td>\n",
       "    </tr>\n",
       "    <tr>\n",
       "      <td>4</td>\n",
       "      <td>2019-07-31T23:59:40</td>\n",
       "      <td>2019-08-01T00:07:26</td>\n",
       "      <td>118</td>\n",
       "      <td>Fleminginkatu</td>\n",
       "      <td>111.0</td>\n",
       "      <td>Esterinportti</td>\n",
       "      <td>1833.0</td>\n",
       "      <td>461</td>\n",
       "    </tr>\n",
       "  </tbody>\n",
       "</table>\n",
       "</div>"
      ],
      "text/plain": [
       "             Departure               Return  Departure station id  \\\n",
       "0  2019-07-31T23:59:56  2019-08-01T10:31:34                    32   \n",
       "1  2019-07-31T23:59:55  2019-08-01T00:05:15                    32   \n",
       "2  2019-07-31T23:59:48  2019-08-01T00:04:53                   101   \n",
       "3  2019-07-31T23:59:42  2019-08-01T00:06:55                   109   \n",
       "4  2019-07-31T23:59:40  2019-08-01T00:07:26                   118   \n",
       "\n",
       "     Departure station name  Return station id Return station name  \\\n",
       "0                Eläinmuseo              211.0         Haagan tori   \n",
       "1                Eläinmuseo               36.0         Apollonkatu   \n",
       "2  Munkkivuoren ostoskeskus              100.0           Teljäntie   \n",
       "3            Hertanmäenkatu              142.0         Koskelantie   \n",
       "4             Fleminginkatu              111.0       Esterinportti   \n",
       "\n",
       "   Covered distance (m)  Duration (sec.)  \n",
       "0                5211.0            37893  \n",
       "1                 939.0              315  \n",
       "2                 994.0              301  \n",
       "3                1827.0              428  \n",
       "4                1833.0              461  "
      ]
     },
     "execution_count": 7,
     "metadata": {},
     "output_type": "execute_result"
    }
   ],
   "source": [
    "july19.head()"
   ]
  },
  {
   "cell_type": "code",
   "execution_count": 5,
   "metadata": {},
   "outputs": [
    {
     "name": "stdout",
     "output_type": "stream",
     "text": [
      "<class 'pandas.core.frame.DataFrame'>\n",
      "RangeIndex: 666362 entries, 0 to 666361\n",
      "Data columns (total 8 columns):\n",
      "Departure                 666362 non-null object\n",
      "Return                    666362 non-null object\n",
      "Departure station id      666362 non-null int64\n",
      "Departure station name    666362 non-null object\n",
      "Return station id         666357 non-null float64\n",
      "Return station name       666357 non-null object\n",
      "Covered distance (m)      666362 non-null float64\n",
      "Duration (sec.)           666362 non-null int64\n",
      "dtypes: float64(2), int64(2), object(4)\n",
      "memory usage: 40.7+ MB\n"
     ]
    }
   ],
   "source": [
    "july19.info()"
   ]
  },
  {
   "cell_type": "code",
   "execution_count": 6,
   "metadata": {},
   "outputs": [
    {
     "data": {
      "text/html": [
       "<div>\n",
       "<style scoped>\n",
       "    .dataframe tbody tr th:only-of-type {\n",
       "        vertical-align: middle;\n",
       "    }\n",
       "\n",
       "    .dataframe tbody tr th {\n",
       "        vertical-align: top;\n",
       "    }\n",
       "\n",
       "    .dataframe thead th {\n",
       "        text-align: right;\n",
       "    }\n",
       "</style>\n",
       "<table border=\"1\" class=\"dataframe\">\n",
       "  <thead>\n",
       "    <tr style=\"text-align: right;\">\n",
       "      <th></th>\n",
       "      <th>Departure station id</th>\n",
       "      <th>Return station id</th>\n",
       "      <th>Covered distance (m)</th>\n",
       "      <th>Duration (sec.)</th>\n",
       "    </tr>\n",
       "  </thead>\n",
       "  <tbody>\n",
       "    <tr>\n",
       "      <td>count</td>\n",
       "      <td>666362.000000</td>\n",
       "      <td>666357.000000</td>\n",
       "      <td>6.663620e+05</td>\n",
       "      <td>6.663620e+05</td>\n",
       "    </tr>\n",
       "    <tr>\n",
       "      <td>mean</td>\n",
       "      <td>164.442446</td>\n",
       "      <td>164.365742</td>\n",
       "      <td>2.171561e+03</td>\n",
       "      <td>9.470689e+02</td>\n",
       "    </tr>\n",
       "    <tr>\n",
       "      <td>std</td>\n",
       "      <td>197.010425</td>\n",
       "      <td>197.290488</td>\n",
       "      <td>2.248124e+03</td>\n",
       "      <td>1.075454e+04</td>\n",
       "    </tr>\n",
       "    <tr>\n",
       "      <td>min</td>\n",
       "      <td>1.000000</td>\n",
       "      <td>1.000000</td>\n",
       "      <td>0.000000e+00</td>\n",
       "      <td>0.000000e+00</td>\n",
       "    </tr>\n",
       "    <tr>\n",
       "      <td>25%</td>\n",
       "      <td>36.000000</td>\n",
       "      <td>36.000000</td>\n",
       "      <td>1.008000e+03</td>\n",
       "      <td>3.410000e+02</td>\n",
       "    </tr>\n",
       "    <tr>\n",
       "      <td>50%</td>\n",
       "      <td>86.000000</td>\n",
       "      <td>86.000000</td>\n",
       "      <td>1.752000e+03</td>\n",
       "      <td>5.860000e+02</td>\n",
       "    </tr>\n",
       "    <tr>\n",
       "      <td>75%</td>\n",
       "      <td>202.000000</td>\n",
       "      <td>202.000000</td>\n",
       "      <td>2.901000e+03</td>\n",
       "      <td>9.810000e+02</td>\n",
       "    </tr>\n",
       "    <tr>\n",
       "      <td>max</td>\n",
       "      <td>997.000000</td>\n",
       "      <td>997.000000</td>\n",
       "      <td>1.004058e+06</td>\n",
       "      <td>5.401659e+06</td>\n",
       "    </tr>\n",
       "  </tbody>\n",
       "</table>\n",
       "</div>"
      ],
      "text/plain": [
       "       Departure station id  Return station id  Covered distance (m)  \\\n",
       "count         666362.000000      666357.000000          6.663620e+05   \n",
       "mean             164.442446         164.365742          2.171561e+03   \n",
       "std              197.010425         197.290488          2.248124e+03   \n",
       "min                1.000000           1.000000          0.000000e+00   \n",
       "25%               36.000000          36.000000          1.008000e+03   \n",
       "50%               86.000000          86.000000          1.752000e+03   \n",
       "75%              202.000000         202.000000          2.901000e+03   \n",
       "max              997.000000         997.000000          1.004058e+06   \n",
       "\n",
       "       Duration (sec.)  \n",
       "count     6.663620e+05  \n",
       "mean      9.470689e+02  \n",
       "std       1.075454e+04  \n",
       "min       0.000000e+00  \n",
       "25%       3.410000e+02  \n",
       "50%       5.860000e+02  \n",
       "75%       9.810000e+02  \n",
       "max       5.401659e+06  "
      ]
     },
     "execution_count": 6,
     "metadata": {},
     "output_type": "execute_result"
    }
   ],
   "source": [
    "july19.describe()"
   ]
  },
  {
   "cell_type": "markdown",
   "metadata": {},
   "source": [
    "<br>Problems with datasets:<br>\n",
    "<br>-too large size (millions of rows on a yearly scope). So, Jupyter Notebook is a weak tool for such volumes<br>\n",
    "<br>-lack of categorical data in HSL datasets - e.g. subscription type, internal/external customer, early bird or not<br>\n",
    "<br>-some data disrepancies - several 'infinity' values, probably occuring when the bike was stolen<br>"
   ]
  },
  {
   "cell_type": "markdown",
   "metadata": {},
   "source": [
    "# Presentation's content "
   ]
  },
  {
   "cell_type": "markdown",
   "metadata": {},
   "source": [
    "## 1. General analysis:\n",
    " <br>-Plotting of volumes for 2019 <br>\n",
    " <br>-Popular stations/routes <br>\n",
    " <br>-Analysis of shorter/longer trips <br>\n",
    "## 2. Comparison of 2018 and 2019 by areas + weekend chart\n",
    "## 3. Monthly analysis: stations, bikes and quick dataframes"
   ]
  },
  {
   "cell_type": "code",
   "execution_count": null,
   "metadata": {},
   "outputs": [],
   "source": []
  }
 ],
 "metadata": {
  "kernelspec": {
   "display_name": "Python 3",
   "language": "python",
   "name": "python3"
  },
  "language_info": {
   "codemirror_mode": {
    "name": "ipython",
    "version": 3
   },
   "file_extension": ".py",
   "mimetype": "text/x-python",
   "name": "python",
   "nbconvert_exporter": "python",
   "pygments_lexer": "ipython3",
   "version": "3.7.3"
  }
 },
 "nbformat": 4,
 "nbformat_minor": 4
}
