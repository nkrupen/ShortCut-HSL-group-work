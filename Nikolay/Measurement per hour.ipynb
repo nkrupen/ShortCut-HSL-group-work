{
 "cells": [
  {
   "cell_type": "code",
   "execution_count": 1,
   "metadata": {},
   "outputs": [],
   "source": [
    "import pandas as pd\n",
    "import numpy as np\n",
    "import seaborn as sns\n",
    "import matplotlib.pyplot as plt"
   ]
  },
  {
   "cell_type": "code",
   "execution_count": 2,
   "metadata": {},
   "outputs": [],
   "source": [
    "#Loading city bike data for April-October 2019\n",
    "bikes07_18 = pd.read_csv('2019-07.csv')\n",
    "bikes08_18 = pd.read_csv('2019-08.csv')\n",
    "bikes09_18 = pd.read_csv('2019-09.csv')\n",
    "bikes10_18 = pd.read_csv('2019-10.csv')"
   ]
  },
  {
   "cell_type": "code",
   "execution_count": 3,
   "metadata": {},
   "outputs": [],
   "source": [
    "bikes07_18.columns = ['Departure','Return','Dep_id',\n",
    "                     'Dep_stn','Ret_id','Ret_stn','Cov_dist','Duration']\n",
    "bikes08_18.columns = ['Departure','Return','Dep_id',\n",
    "                     'Dep_stn','Ret_id','Ret_stn','Cov_dist','Duration']\n",
    "bikes09_18.columns = ['Departure','Return','Dep_id',\n",
    "                     'Dep_stn','Ret_id','Ret_stn','Cov_dist','Duration']\n",
    "bikes10_18.columns = ['Departure','Return','Dep_id',\n",
    "                     'Dep_stn','Ret_id','Ret_stn','Cov_dist','Duration']"
   ]
  },
  {
   "cell_type": "code",
   "execution_count": 4,
   "metadata": {},
   "outputs": [],
   "source": [
    "#Concantenating tables\n",
    "df2018 = pd.concat([bikes07_18, bikes08_18, bikes09_18, bikes10_18], axis=0)"
   ]
  },
  {
   "cell_type": "code",
   "execution_count": 8,
   "metadata": {},
   "outputs": [],
   "source": [
    "#Adding columns of date, hour (both based on departure time) and node\n",
    "ind = pd.DatetimeIndex(df2018.Departure)\n",
    "df2018['date'] = ind.date.astype('datetime64')\n",
    "df2018['hour'] = ind.hour"
   ]
  },
  {
   "cell_type": "code",
   "execution_count": 5,
   "metadata": {},
   "outputs": [],
   "source": [
    "#Loading city bike data for April-October 2019\n",
    "bikes04 = pd.read_csv('2019-04.csv')\n",
    "bikes05 = pd.read_csv('2019-05.csv')\n",
    "bikes06 = pd.read_csv('2019-06.csv')\n",
    "bikes07 = pd.read_csv('2019-07.csv')\n",
    "bikes08 = pd.read_csv('2019-08.csv')\n",
    "bikes09 = pd.read_csv('2019-09.csv')\n",
    "bikes10 = pd.read_csv('2019-10.csv')"
   ]
  },
  {
   "cell_type": "code",
   "execution_count": 6,
   "metadata": {},
   "outputs": [],
   "source": [
    "#Re-naming columns for a better usability\n",
    "bikes04.columns = ['Departure','Return','Dep_id',\n",
    "                     'Dep_stn','Ret_id','Ret_stn','Cov_dist','Duration']\n",
    "bikes05.columns = ['Departure','Return','Dep_id',\n",
    "                     'Dep_stn','Ret_id','Ret_stn','Cov_dist','Duration']\n",
    "bikes06.columns = ['Departure','Return','Dep_id',\n",
    "                     'Dep_stn','Ret_id','Ret_stn','Cov_dist','Duration']\n",
    "bikes07.columns = ['Departure','Return','Dep_id',\n",
    "                     'Dep_stn','Ret_id','Ret_stn','Cov_dist','Duration']\n",
    "bikes08.columns = ['Departure','Return','Dep_id',\n",
    "                     'Dep_stn','Ret_id','Ret_stn','Cov_dist','Duration']\n",
    "bikes09.columns = ['Departure','Return','Dep_id',\n",
    "                     'Dep_stn','Ret_id','Ret_stn','Cov_dist','Duration']\n",
    "bikes10.columns = ['Departure','Return','Dep_id',\n",
    "                     'Dep_stn','Ret_id','Ret_stn','Cov_dist','Duration']"
   ]
  },
  {
   "cell_type": "code",
   "execution_count": 7,
   "metadata": {},
   "outputs": [],
   "source": [
    "#Concantenating tables\n",
    "df2019 = pd.concat([bikes04, bikes05, bikes06, bikes07, bikes08, bikes09, bikes10], axis=0)"
   ]
  },
  {
   "cell_type": "code",
   "execution_count": 9,
   "metadata": {},
   "outputs": [],
   "source": [
    "#Adding columns of date, hour (both based on departure time) and node\n",
    "ind1 = pd.DatetimeIndex(df2019.Departure)\n",
    "df2019['date'] = ind1.date.astype('datetime64')\n",
    "df2019['hour'] = ind1.hour"
   ]
  },
  {
   "cell_type": "code",
   "execution_count": 10,
   "metadata": {},
   "outputs": [],
   "source": [
    "df2018['Dayofweek'] = ind.dayofweek #returns the day of the week (Monday = 0, Sunday = 6)\n",
    "df2018['DOW'] = ind.strftime('%a') #%a is the format string for Weekday Abbreviated name (Sun,Mon, etc.)"
   ]
  },
  {
   "cell_type": "code",
   "execution_count": 14,
   "metadata": {},
   "outputs": [
    {
     "data": {
      "image/png": "[encoded data removed]",
      "text/plain": [
       "<Figure size 1728x360 with 2 Axes>"
      ]
     },
     "metadata": {
      "needs_background": "light"
     },
     "output_type": "display_data"
    }
   ],
   "source": [
    "fig, axes = plt.subplots(nrows=1, ncols=2,figsize=(24,5),sharey=True)\n",
    "sns.countplot('hour',data=df2018,order=range(25),palette=\"GnBu_d\",ax=axes[0])\n",
    "sns.countplot('hour',data=df2019,order=range(25),palette=\"GnBu_d\",ax=axes[1])\n",
    "for ax in axes:\n",
    "    ax.set_xlabel('Hour of the Day',fontsize=14)\n",
    "    ax.set_ylabel('Number of Journeys')\n",
    "axes[0].set_title('Total Trips by Time of Day - 2018',fontsize=16)\n",
    "axes[1].set_title('Total Trips by Time of Day - 2019',fontsize=16)\n",
    "plt.tight_layout()"
   ]
  },
  {
   "cell_type": "code",
   "execution_count": null,
   "metadata": {},
   "outputs": [],
   "source": []
  }
 ],
 "metadata": {
  "kernelspec": {
   "display_name": "Python 3",
   "language": "python",
   "name": "python3"
  },
  "language_info": {
   "codemirror_mode": {
    "name": "ipython",
    "version": 3
   },
   "file_extension": ".py",
   "mimetype": "text/x-python",
   "name": "python",
   "nbconvert_exporter": "python",
   "pygments_lexer": "ipython3",
   "version": "3.7.3"
  }
 },
 "nbformat": 4,
 "nbformat_minor": 4
}
