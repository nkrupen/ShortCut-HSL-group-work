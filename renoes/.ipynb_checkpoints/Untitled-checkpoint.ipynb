{
 "cells": [
  {
   "cell_type": "code",
   "execution_count": 3,
   "metadata": {},
   "outputs": [],
   "source": [
    "import pandas as pd\n",
    "import numpy as np\n"
   ]
  },
  {
   "cell_type": "code",
   "execution_count": 69,
   "metadata": {},
   "outputs": [
    {
     "name": "stderr",
     "output_type": "stream",
     "text": [
      "C:\\ProgramData\\Anaconda3\\lib\\site-packages\\IPython\\core\\interactiveshell.py:3020: DtypeWarning: Columns (1) have mixed types.Specify dtype option on import or set low_memory=False.\n",
      "  interactivity=interactivity, compiler=compiler, result=result)\n"
     ]
    }
   ],
   "source": [
    "EspooBikers=pd.read_csv('..\\Katariina\\EspooBikers_cleanDataset.csv')\n",
    "#EspooBikers.info()\n",
    "HelsinkiBikers=pd.read_csv('..\\Katariina\\HelsinkiBikers_cleanDataset.csv')\n",
    "#HelsinkiBikers.info()\n",
    "VantaaBikers=pd.read_csv('..\\Katariina\\VantaaBikers_cleanDataset.csv')\n",
    "#VantaaBikers.info()\n",
    "HelsinkiBikers=HelsinkiBikers.set_index(['Date','Time'])\n",
    "EspooBikers=EspooBikers.set_index(['Date','Time'])\n",
    "VantaaBikers=VantaaBikers.set_index(['Date','Time'])\n",
    "VantaaBikers\n",
    "\n",
    "AllBikers=HelsinkiBikers.copy();\n",
    "AllBikers=AllBikers.join(EspooBikers.iloc[:,2:])\n",
    "AllBikers=AllBikers.join(VantaaBikers.iloc[:,2:])\n",
    "\n",
    "VantaaBikers\n",
    "\n",
    "Dateall_ind=pd.DatetimeIndex(np.arange(np.datetime64('2015-01-01'), np.datetime64('2016-12-31')))\n",
    "Dateall_ind.date\n",
    "\n",
    "\n",
    "AllBikers.iloc[20000:20100,:]\n",
    "\n",
    "VantaaBikers.iloc[12000:14000,:]\n",
    "\n",
    "HelsinkiBikers_dropna=HelsinkiBikers.copy().dropna()"
   ]
  }
 ],
 "metadata": {
  "kernelspec": {
   "display_name": "Python 3",
   "language": "python",
   "name": "python3"
  },
  "language_info": {
   "codemirror_mode": {
    "name": "ipython",
    "version": 3
   },
   "file_extension": ".py",
   "mimetype": "text/x-python",
   "name": "python",
   "nbconvert_exporter": "python",
   "pygments_lexer": "ipython3",
   "version": "3.7.3"
  }
 },
 "nbformat": 4,
 "nbformat_minor": 2
}
